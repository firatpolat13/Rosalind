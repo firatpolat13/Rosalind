{
 "cells": [
  {
   "cell_type": "markdown",
   "metadata": {},
   "source": [
    "# Problem\n",
    "\n",
    "In a weighted alphabet, every symbol is assigned a positive real number called a weight. A string formed from a weighted alphabet is called a weighted string, and its weight is equal to the sum of the weights of its symbols.\n",
    "\n",
    "The standard weight assigned to each member of the 20-symbol amino acid alphabet is the monoisotopic mass of the corresponding amino acid.\n",
    "\n",
    "Given: A protein string P\n",
    "\n",
    "of length at most 1000 aa.\n",
    "\n",
    "Return: The total weight of P\n",
    ". Consult the monoisotopic mass table."
   ]
  },
  {
   "cell_type": "code",
   "execution_count": 2,
   "metadata": {},
   "outputs": [],
   "source": [
    "mass_table= { \"A\":71.03711,\"C\" :103.00919,\"D\" :115.02694,\"E\" :129.04259,\"F\" : 147.06841,\"G\" : 57.02146,\"H\" : 137.05891,\"I\" : 113.08406,\"K\" : 128.09496,\"L\" : 113.08406,\"M\" : 131.04049,\"N\" : 114.04293,\"P\" : 97.05276,\"Q\" : 128.05858,\"R\" : 156.10111,\"S\" : 87.03203,\"T\" : 101.04768,\"V\" : 99.06841,\"W\" : 186.07931,\"Y\" : 163.06333 }"
   ]
  },
  {
   "cell_type": "code",
   "execution_count": 7,
   "metadata": {},
   "outputs": [
    {
     "data": {
      "text/plain": [
       "821.3919199999999"
      ]
     },
     "execution_count": 7,
     "metadata": {},
     "output_type": "execute_result"
    }
   ],
   "source": [
    "s=\"SKADYEK\"\n",
    "mass_table[\"A\"]\n",
    "sum1=0\n",
    "for i in range(0,len(s)):\n",
    "    sum1 = sum1 + mass_table[s[i]]\n",
    "sum1"
   ]
  },
  {
   "cell_type": "code",
   "execution_count": 8,
   "metadata": {},
   "outputs": [],
   "source": [
    "def weight(s):\n",
    "    mass_table= { \"A\":71.03711,\"C\" :103.00919,\"D\" :115.02694,\"E\" :129.04259,\"F\" : 147.06841,\"G\" : 57.02146,\"H\" : 137.05891,\"I\" : 113.08406,\"K\" : 128.09496,\"L\" : 113.08406,\"M\" : 131.04049,\"N\" : 114.04293,\"P\" : 97.05276,\"Q\" : 128.05858,\"R\" : 156.10111,\"S\" : 87.03203,\"T\" : 101.04768,\"V\" : 99.06841,\"W\" : 186.07931,\"Y\" : 163.06333 }\n",
    "    sum1=0\n",
    "    for i in range(0,len(s)):\n",
    "        sum1 = sum1 + mass_table[s[i]]\n",
    "    return sum1"
   ]
  },
  {
   "cell_type": "code",
   "execution_count": 9,
   "metadata": {},
   "outputs": [
    {
     "data": {
      "text/plain": [
       "821.3919199999999"
      ]
     },
     "execution_count": 9,
     "metadata": {},
     "output_type": "execute_result"
    }
   ],
   "source": [
    "weight(\"SKADYEK\")"
   ]
  },
  {
   "cell_type": "code",
   "execution_count": 10,
   "metadata": {},
   "outputs": [
    {
     "data": {
      "text/plain": [
       "107493.27777000044"
      ]
     },
     "execution_count": 10,
     "metadata": {},
     "output_type": "execute_result"
    }
   ],
   "source": [
    "weight(\"SWELSRFYCYLDSLTVPTSVGDPYCEISFPPDAYPLAANNWNEYQGGSKCVIECEQNYNWTQLIIQCECLPACNCIWISTCAEIHTQEGAWQSMEQAPRTLTTKEPKWYWSHWVDRRLLGTVGRVAPDHGKAHGQGFVKADMSVMRASWLELSNWMVCNILARIYIVECPMWGVFQVEGAQCFGRDTQRYGKSQVKNYDTHSKWDPWQDYNYVNGIMSVRFCYDWLRWRDGTQNQSHYRKAVSLASHEITTGCERMHWKAKRNVPATIFEQRRQMPVYLEYLIEWYEMYWDAIFLYAGAADTSEHNVDMRMSVMFNRVGGKPQIHVVDYTAYEYATAKLNRSFWEYKSFYLKVEPINEVEKKVPYWHCEFKTGFRRTQHTTDIWMMQRNYHNFRCFWPLMNQRKWDLTTVQGMTMWKRTGIFGIVCELADIFVCPYMVKMYSKVEWPFIHCQKFANPRCTADWVFVMPPCMMKDTWCEMRSRKMHYTNHEDSFHDWKAPFIDGGANAANLMMKWVGYNCDPLDALISYHPAYSTMDRMALTIARVQQDEEQWMDKGNSQDWPWPMGEYVGDIEIEHMYQGVYVWYRDNIDFISMTYLFEEHCSKTSKLFLDYIPGLYGWCHMNSPLQCLPMWSWMSGAHSWAYPFIEMGILTCNCYHFYSSPRRNNDMGCYGEYAMCICRLVCIMHRGPRRTWWLKHYQSASFRRISVMGWEAIWCEYHDDFRGHKLIWTNNCRTGGWIDNSWPYWQMCTKYVASGVWKEIEDQMLAFFQRPYQHRLCLAEMVEVEGRIECQHECFTYAKAGIKQAKCSWERKWTMLKYTPVMSASCDGEDMKFNAMIPAMKWWRWMFVKGEMNQFTCWHNNVSPDVVKYSSKMRNYDNYYKYVILRQRQESCSVICPPASQ\")"
   ]
  },
  {
   "cell_type": "code",
   "execution_count": null,
   "metadata": {},
   "outputs": [],
   "source": []
  }
 ],
 "metadata": {
  "kernelspec": {
   "display_name": "Python 3",
   "language": "python",
   "name": "python3"
  },
  "language_info": {
   "codemirror_mode": {
    "name": "ipython",
    "version": 3
   },
   "file_extension": ".py",
   "mimetype": "text/x-python",
   "name": "python",
   "nbconvert_exporter": "python",
   "pygments_lexer": "ipython3",
   "version": "3.6.5"
  }
 },
 "nbformat": 4,
 "nbformat_minor": 2
}
