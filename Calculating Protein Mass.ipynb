{
 "cells": [
  {
   "cell_type": "markdown",
   "metadata": {},
   "source": [
    "Problem\n",
    "\n",
    "In a weighted alphabet, every symbol is assigned a positive real number called a weight. A string formed from a weighted alphabet is called a weighted string, and its weight is equal to the sum of the weights of its symbols.\n",
    "\n",
    "The standard weight assigned to each member of the 20-symbol amino acid alphabet is the monoisotopic mass of the corresponding amino acid.\n",
    "\n",
    "Given: A protein string P\n",
    "\n",
    "of length at most 1000 aa.\n",
    "\n",
    "Return: The total weight of P\n",
    "\n",
    ". Consult the monoisotopic mass table.\n",
    "Sample Dataset"
   ]
  },
  {
   "cell_type": "code",
   "execution_count": 13,
   "metadata": {},
   "outputs": [],
   "source": [
    "dict1 = {'A':   71.03711,\n",
    "'C':   103.00919,\n",
    "'D':   115.02694,\n",
    "'E':   129.04259,\n",
    "'F':   147.06841,\n",
    "'G':   57.02146,\n",
    "'H':   137.05891,\n",
    "'I':   113.08406,\n",
    "'K':   128.09496,\n",
    "'L' :  113.08406,\n",
    "'M':   131.04049,\n",
    "'N':   114.04293,\n",
    "'P':   97.05276,\n",
    "'Q':   128.05858,\n",
    "'R':   156.10111,\n",
    "'S':   87.03203,\n",
    "'T':   101.04768,\n",
    "'V':   99.06841,\n",
    "'W':   186.07931,\n",
    "'Y':   163.06333}\n",
    "\n",
    "def calculate(protein):\n",
    "    mass = 0\n",
    "    for i in range(len(protein)):\n",
    "        mass = mass + dict1[protein[i]]\n",
    "    return round(mass,3)"
   ]
  },
  {
   "cell_type": "code",
   "execution_count": 14,
   "metadata": {},
   "outputs": [
    {
     "data": {
      "text/plain": [
       "103985.448"
      ]
     },
     "execution_count": 14,
     "metadata": {},
     "output_type": "execute_result"
    }
   ],
   "source": [
    "s = \"KMSQNNKRAVQDQCKHQYFKLVGLKNDTFEFMTFVIRRSGIVPPHQHNHLCKNCGHGYKVYLNSKGLEQDPPFHVCETVGTQMKKDCAHSMQRAKRPSVVLCDAYNGAMGEFTFVGHFQTKDSWTTYNTVAEVYGHHNHFNNNTQFGMCFHYTWQLGFIGSDFPAEIGWYHTKPIDFVAAYEYQHRMVCAQFPQYWPSRYQLNVCCEHSMYPGPQPRNQDIFHLSNFMEHEEFHCWTCRWWCFWGKECQNMSNYYWHSPMGYGCVHLKPEPGACEGLSYKYRDHAVKDGWVEFDYRCSMIYQFVADIRRIRMGNHMWIQQYLLDDSDDPNPTMPRKNHHGNKTIAMVRAGFRMEFSGKLWSEAPPFNYSFIMHIPQICKHRHHSDHKTQYAGHCFDHYDMIVSEPYCGDREKVFNKQVGQKHESEHMENCAGCRWWDFLPCADQQQVLYMLETGNCNITMKDCVDFKTKKDWPLPVDCEVAEEESTQFHIPCFAPMQRILNVEHAAAIQALRCWEYTFFHVIPNFQVVKLVDHRGTHNGPEGWDESFSEWAPVIQDPYDEASSGLLQIGYHDRFNHGTIKEWMFDWEIIVTHPHAKEDWHGYGTDTYQCYFLCGHMFRCYVKADISATWDGQRARGFAAAWNHPYFHQWLARKIWDWWLHMFGRWILACQCDAWRTKVCFDADCKNHICNGSIWWMSKRTMHVDNWKLKHIEYCRVMPFWEFKNLRLPCTVCIFGECTLCIAWACLREQQAINRVSKRQEMAMFRPNAWHLEWLSGGWMRPFFCMCLIMRRKVCVVWTNHYQLGNVELKWFKMPVELDHQYWLEEVIAQYVNDTCMLIFFEMKGCEKPAQTQEYEQACQGWVCRVTLGVDSGAWMD\"\n",
    "calculate(s)"
   ]
  },
  {
   "cell_type": "code",
   "execution_count": null,
   "metadata": {},
   "outputs": [],
   "source": []
  }
 ],
 "metadata": {
  "kernelspec": {
   "display_name": "Python 3",
   "language": "python",
   "name": "python3"
  },
  "language_info": {
   "codemirror_mode": {
    "name": "ipython",
    "version": 3
   },
   "file_extension": ".py",
   "mimetype": "text/x-python",
   "name": "python",
   "nbconvert_exporter": "python",
   "pygments_lexer": "ipython3",
   "version": "3.7.4"
  }
 },
 "nbformat": 4,
 "nbformat_minor": 2
}
