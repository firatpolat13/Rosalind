{
 "cells": [
  {
   "cell_type": "markdown",
   "metadata": {},
   "source": [
    "Problem\n",
    "\n",
    "For a random variable X\n",
    "taking integer values between 1 and n, the expected value of X is E(X)=∑nk=1k×Pr(X=k)\n",
    "\n",
    ". The expected value offers us a way of taking the long-term average of a random variable over a large number of trials.\n",
    "\n",
    "As a motivating example, let X\n",
    "be the number on a six-sided die. Over a large number of rolls, we should expect to obtain an average of 3.5 on the die (even though it's not possible to roll a 3.5). The formula for expected value confirms that E(X)=∑6k=1k×Pr(X=k)=3.5\n",
    "\n",
    ".\n",
    "\n",
    "More generally, a random variable for which every one of a number of equally spaced outcomes has the same probability is called a uniform random variable (in the die example, this \"equal spacing\" is equal to 1). We can generalize our die example to find that if X\n",
    "is a uniform random variable with minimum possible value a and maximum possible value b, then E(X)=a+b2. You may also wish to verify that for the dice example, if Y is the random variable associated with the outcome of a second die roll, then E(X+Y)=7\n",
    "\n",
    ".\n",
    "\n",
    "Given: Six nonnegative integers, each of which does not exceed 20,000. The integers correspond to the number of couples in a population possessing each genotype pairing for a given factor. In order, the six given integers represent the number of couples having the following genotypes:\n",
    "\n",
    "    AA-AA\n",
    "    AA-Aa\n",
    "    AA-aa\n",
    "    Aa-Aa\n",
    "    Aa-aa\n",
    "    aa-aa\n",
    "\n",
    "Return: The expected number of offspring displaying the dominant phenotype in the next generation, under the assumption that every couple has exactly two offspring.\n",
    "Sample Dataset\n",
    "\n",
    "1 0 0 1 0 1\n",
    "\n",
    "Sample Output\n",
    "\n",
    "3.5\n"
   ]
  },
  {
   "cell_type": "code",
   "execution_count": 2,
   "metadata": {},
   "outputs": [
    {
     "name": "stdout",
     "output_type": "stream",
     "text": [
      "153824.5\n"
     ]
    }
   ],
   "source": [
    "array = [17742, 16465, 19899, 17893, 18773, 19514]\n",
    "multiplier = [1,1,1,0.75,0.5,0] # 'AA_AA':1,'AA_Aa':1,'AA_aa':1,'Aa_Aa':(0.75),'Aa_aa':(0.5),'aa_aa':0\n",
    "exp = 0\n",
    "\n",
    "for i in range(len(array)):\n",
    "    exp = exp + 2* array[i]*multiplier[i]\n",
    "\n",
    "print (exp)"
   ]
  }
 ],
 "metadata": {
  "kernelspec": {
   "display_name": "Python 3",
   "language": "python",
   "name": "python3"
  },
  "language_info": {
   "codemirror_mode": {
    "name": "ipython",
    "version": 3
   },
   "file_extension": ".py",
   "mimetype": "text/x-python",
   "name": "python",
   "nbconvert_exporter": "python",
   "pygments_lexer": "ipython3",
   "version": "3.7.4"
  }
 },
 "nbformat": 4,
 "nbformat_minor": 2
}
