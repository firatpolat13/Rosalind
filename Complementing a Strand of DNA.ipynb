{
 "cells": [
  {
   "cell_type": "markdown",
   "metadata": {},
   "source": [
    "Problem\n",
    "\n",
    "In DNA strings, symbols 'A' and 'T' are complements of each other, as are 'C' and 'G'.\n",
    "\n",
    "The reverse complement of a DNA string s\n",
    "is the string sc formed by reversing the symbols of s\n",
    "\n",
    ", then taking the complement of each symbol (e.g., the reverse complement of \"GTCA\" is \"TGAC\").\n",
    "\n",
    "Given: A DNA string s\n",
    "\n",
    "of length at most 1000 bp.\n",
    "\n",
    "Return: The reverse complement sc\n",
    "of s."
   ]
  },
  {
   "cell_type": "code",
   "execution_count": 32,
   "metadata": {},
   "outputs": [],
   "source": [
    "def rev_complement(s):\n",
    "    a = \"\"\n",
    "    for i in range(0,len(s)):\n",
    "        if s[i] == \"A\":\n",
    "            a = a + \"T\"\n",
    "        elif s[i] == \"T\":\n",
    "            a = a + \"A\"\n",
    "        elif s[i] == \"G\":\n",
    "            a = a + \"C\"\n",
    "        elif s[i] == \"C\":\n",
    "            a = a + \"G\"\n",
    "        \n",
    "    return a[::-1]"
   ]
  },
  {
   "cell_type": "code",
   "execution_count": 35,
   "metadata": {},
   "outputs": [
    {
     "data": {
      "text/plain": [
       "'CTGTCGCGCTTTTTTAGCTGGTCTATACGGCAATAAGGGCCTTCTACGCAACTTACTGGATTACTGCAGATTCTAAGCGGGGCGGCGAACTGTATGTTCCTGATCTGTTCCGATAATAAGCCCGAAAAATTCGTCCGCCGTTTTTTTCCAACATTCTTGCCAACTTTCGAATCTTTTAGGCCAATTGGATCAGCCTCCCCCCAGAGTCTTGGAACACGATCCTTCCCCCACCCTTTTACATGTGAGAAAGCAATATATGTGCCGTGAATGGCGTATTAACGTTGGCCAGCTACACCTCGGGATAAGCACAGGACCACCCGGGATCGTAGATGGGCACACATTCATAAGACGTTTCGTGTACATTCACGGAAGAAATTTAATCATATTTTCTCCTATTGTGGACCGCGGCTGCAGAAGTGACTGTGAGACCAGGCCGGATTGTCAACTCAAGCGATACCCGATGAGCGCTTGGTGAAAAATCCTGGCAATTTTCGCCGGCGTCACGGTCATTGTGTGTGTCGTTTGTCACAAAAGTTATTGTAGTTAGGGGTCTAATTATAGCGATGGGAACGTGCCGACCCACGGGGACGCCGCCCCTGTGATTCCCTATGCCTGGTGCCGCCTCATTGGCTGGGATCTGGGCCCCTGCCGGTTCCGGACCCCGGCCGTTGAAGTAGTTTCTGCACCGACCGCGTCTGGTTGCGGGCGCGAGACGAAATTGAGACCATGACGAAGTTACTACCTTAAGGTTAGAGGAGCTCCACCGCATGACCTGCTCAGACTCGTTTGGCACGTCGGCGTGGCGGACCAGGACCCCTACAAGGCGATTGGCTAGAATGATTGTGTACGGACAACGCTCACGTGATCGCGGTCATTCCGCAACACGTCGACAATTTTGTACGAGAGTGGTAACTGTGTCCACCATTAAACCTCGGCGGTATAAG'"
      ]
     },
     "execution_count": 35,
     "metadata": {},
     "output_type": "execute_result"
    }
   ],
   "source": [
    "rev_complement(\"CTTATACCGCCGAGGTTTAATGGTGGACACAGTTACCACTCTCGTACAAAATTGTCGACGTGTTGCGGAATGACCGCGATCACGTGAGCGTTGTCCGTACACAATCATTCTAGCCAATCGCCTTGTAGGGGTCCTGGTCCGCCACGCCGACGTGCCAAACGAGTCTGAGCAGGTCATGCGGTGGAGCTCCTCTAACCTTAAGGTAGTAACTTCGTCATGGTCTCAATTTCGTCTCGCGCCCGCAACCAGACGCGGTCGGTGCAGAAACTACTTCAACGGCCGGGGTCCGGAACCGGCAGGGGCCCAGATCCCAGCCAATGAGGCGGCACCAGGCATAGGGAATCACAGGGGCGGCGTCCCCGTGGGTCGGCACGTTCCCATCGCTATAATTAGACCCCTAACTACAATAACTTTTGTGACAAACGACACACACAATGACCGTGACGCCGGCGAAAATTGCCAGGATTTTTCACCAAGCGCTCATCGGGTATCGCTTGAGTTGACAATCCGGCCTGGTCTCACAGTCACTTCTGCAGCCGCGGTCCACAATAGGAGAAAATATGATTAAATTTCTTCCGTGAATGTACACGAAACGTCTTATGAATGTGTGCCCATCTACGATCCCGGGTGGTCCTGTGCTTATCCCGAGGTGTAGCTGGCCAACGTTAATACGCCATTCACGGCACATATATTGCTTTCTCACATGTAAAAGGGTGGGGGAAGGATCGTGTTCCAAGACTCTGGGGGGAGGCTGATCCAATTGGCCTAAAAGATTCGAAAGTTGGCAAGAATGTTGGAAAAAAACGGCGGACGAATTTTTCGGGCTTATTATCGGAACAGATCAGGAACATACAGTTCGCCGCCCCGCTTAGAATCTGCAGTAATCCAGTAAGTTGCGTAGAAGGCCCTTATTGCCGTATAGACCAGCTAAAAAAGCGCGACAG\")"
   ]
  },
  {
   "cell_type": "code",
   "execution_count": 34,
   "metadata": {},
   "outputs": [
    {
     "data": {
      "text/plain": [
       "True"
      ]
     },
     "execution_count": 34,
     "metadata": {},
     "output_type": "execute_result"
    }
   ],
   "source": [
    "\"ACCGGGTTTT\" == \"ACCGGGTTTT\""
   ]
  },
  {
   "cell_type": "code",
   "execution_count": null,
   "metadata": {},
   "outputs": [],
   "source": []
  },
  {
   "cell_type": "code",
   "execution_count": null,
   "metadata": {},
   "outputs": [],
   "source": []
  },
  {
   "cell_type": "code",
   "execution_count": null,
   "metadata": {},
   "outputs": [],
   "source": []
  },
  {
   "cell_type": "code",
   "execution_count": null,
   "metadata": {},
   "outputs": [],
   "source": []
  }
 ],
 "metadata": {
  "kernelspec": {
   "display_name": "Python 3",
   "language": "python",
   "name": "python3"
  },
  "language_info": {
   "codemirror_mode": {
    "name": "ipython",
    "version": 3
   },
   "file_extension": ".py",
   "mimetype": "text/x-python",
   "name": "python",
   "nbconvert_exporter": "python",
   "pygments_lexer": "ipython3",
   "version": "3.6.5"
  }
 },
 "nbformat": 4,
 "nbformat_minor": 2
}
