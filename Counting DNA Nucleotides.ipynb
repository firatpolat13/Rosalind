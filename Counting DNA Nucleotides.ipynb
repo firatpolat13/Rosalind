{
 "cells": [
  {
   "cell_type": "markdown",
   "metadata": {},
   "source": [
    "A string is simply an ordered collection of symbols selected from some alphabet and formed into a word; the length of a string is the number of symbols that it contains.\n",
    "\n",
    "An example of a length 21 DNA string (whose alphabet contains the symbols 'A', 'C', 'G', and 'T') is \"ATGCTTCAGAAAGGTCTTACG.\"\n",
    "\n",
    "Given: A DNA string s\n",
    "\n",
    "of length at most 1000 nt.\n",
    "\n",
    "Return: Four integers (separated by spaces) counting the respective number of times that the symbols 'A', 'C', 'G', and 'T' occur in s\n",
    "."
   ]
  },
  {
   "cell_type": "code",
   "execution_count": 10,
   "metadata": {},
   "outputs": [],
   "source": [
    "dna=\"GGTCACAGTCCAGGCCGTCTAGGCTGCTTTGATTGGCATGACGACATTTAACGAAGGAGTTTAGGACGAGAACTCGCTTCTGGCCAGACCTATGAGCGGGACGCGTCTTTACTTAAGACAGAAGATCTTTAACAGTCTTACCATGGGGGGCGCCCCGGTCACACCAATAGTGGCCCTCTCTCGTTCCCCAATGGACAGGTCTGATTGGCTGAATTTTCACCTTTGTTGTTCTGTCTTGAAGTGGTTGGTGCTTGTTGTGTATACAGGGCAATTCACGCTCAGTTGGTTCATCAGCGTGGGGGTTGCTCCACACAGTTAGATAAGAATGGTGAGAAACAGCGCTCTATTAACTTCTCGATTTCAACAGCAAACGTCACATGGAACCCGGCCTGCTATACGATCGAGATTCTAACCTACTTAAAGTTACATTCTTCGCTCCATATCACGAGGAATTGGAGGTTCACCTTGCCCCCATGGTCTTCATCGGAACTGTACCGATACTAGGGGTACGGTGTCGGAGCACCCCAGGGAGTGCTCGCGAGACCCCAAGCTAATATTACGTTTTAAGACCTCCTCCGACTGCGGAGACATTAATCCATGCATGTCTATGACTAGGGCGTTCAATTCGTGACTCAGGTCTATAGAACTCTCCGCAGCTCGATGCTGAAAGAGCGACGTTCAATATTAGACCCAGTGAGATAGCGGTACAGACGGCCACAACATGTGCGAGGAACGCCCAGAGCTTTACATATGGGATCACGCGATATACGTGGGGGCAGCCGTCCTTAGACACTATATCGATTCCTGCACGATCAAGGCCAACAGACTCTATATGTTTCGGCGTAGCATCACAATTCCTGCTGGCGTGACATTAAGTCTATACCCGGGTTAGCGGCGAAACCAGGCGGGTATATGGAGAGAGGATGCCTCAAGTTTGGTGTCTGTTCAGACCATAGCCTGCGCCCGACGACTATCTAGCGCAGCCTG\""
   ]
  },
  {
   "cell_type": "code",
   "execution_count": 11,
   "metadata": {},
   "outputs": [],
   "source": [
    "def dna(s):\n",
    "    \n",
    "    A=0\n",
    "    C=0\n",
    "    G=0\n",
    "    T=0\n",
    "    for i in range(0,len(s)):\n",
    "        if s[i] == \"A\":\n",
    "            A = A+1\n",
    "        elif s[i] == \"C\":\n",
    "            C = C+1\n",
    "        elif s[i] == \"G\":\n",
    "            G = G+1\n",
    "        elif s[i] == \"T\":\n",
    "            T = T+1\n",
    "    return A, C, G, T"
   ]
  },
  {
   "cell_type": "code",
   "execution_count": 12,
   "metadata": {},
   "outputs": [
    {
     "data": {
      "text/plain": [
       "(239, 248, 252, 248)"
      ]
     },
     "execution_count": 12,
     "metadata": {},
     "output_type": "execute_result"
    }
   ],
   "source": [
    "dna(\"GGTCACAGTCCAGGCCGTCTAGGCTGCTTTGATTGGCATGACGACATTTAACGAAGGAGTTTAGGACGAGAACTCGCTTCTGGCCAGACCTATGAGCGGGACGCGTCTTTACTTAAGACAGAAGATCTTTAACAGTCTTACCATGGGGGGCGCCCCGGTCACACCAATAGTGGCCCTCTCTCGTTCCCCAATGGACAGGTCTGATTGGCTGAATTTTCACCTTTGTTGTTCTGTCTTGAAGTGGTTGGTGCTTGTTGTGTATACAGGGCAATTCACGCTCAGTTGGTTCATCAGCGTGGGGGTTGCTCCACACAGTTAGATAAGAATGGTGAGAAACAGCGCTCTATTAACTTCTCGATTTCAACAGCAAACGTCACATGGAACCCGGCCTGCTATACGATCGAGATTCTAACCTACTTAAAGTTACATTCTTCGCTCCATATCACGAGGAATTGGAGGTTCACCTTGCCCCCATGGTCTTCATCGGAACTGTACCGATACTAGGGGTACGGTGTCGGAGCACCCCAGGGAGTGCTCGCGAGACCCCAAGCTAATATTACGTTTTAAGACCTCCTCCGACTGCGGAGACATTAATCCATGCATGTCTATGACTAGGGCGTTCAATTCGTGACTCAGGTCTATAGAACTCTCCGCAGCTCGATGCTGAAAGAGCGACGTTCAATATTAGACCCAGTGAGATAGCGGTACAGACGGCCACAACATGTGCGAGGAACGCCCAGAGCTTTACATATGGGATCACGCGATATACGTGGGGGCAGCCGTCCTTAGACACTATATCGATTCCTGCACGATCAAGGCCAACAGACTCTATATGTTTCGGCGTAGCATCACAATTCCTGCTGGCGTGACATTAAGTCTATACCCGGGTTAGCGGCGAAACCAGGCGGGTATATGGAGAGAGGATGCCTCAAGTTTGGTGTCTGTTCAGACCATAGCCTGCGCCCGACGACTATCTAGCGCAGCCTG\")"
   ]
  },
  {
   "cell_type": "code",
   "execution_count": 13,
   "metadata": {},
   "outputs": [
    {
     "data": {
      "text/plain": [
       "(20, 12, 17, 21)"
      ]
     },
     "execution_count": 13,
     "metadata": {},
     "output_type": "execute_result"
    }
   ],
   "source": [
    "dna(\"AGCTTTTCATTCTGACTGCAACGGGCAATATGTCTCTGTGTGGATTAAAAAAAGAGTGTCTGATAGCAGC\")"
   ]
  },
  {
   "cell_type": "code",
   "execution_count": null,
   "metadata": {},
   "outputs": [],
   "source": []
  }
 ],
 "metadata": {
  "kernelspec": {
   "display_name": "Python 3",
   "language": "python",
   "name": "python3"
  },
  "language_info": {
   "codemirror_mode": {
    "name": "ipython",
    "version": 3
   },
   "file_extension": ".py",
   "mimetype": "text/x-python",
   "name": "python",
   "nbconvert_exporter": "python",
   "pygments_lexer": "ipython3",
   "version": "3.6.5"
  }
 },
 "nbformat": 4,
 "nbformat_minor": 2
}
