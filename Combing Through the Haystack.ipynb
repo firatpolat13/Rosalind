{
 "cells": [
  {
   "cell_type": "markdown",
   "metadata": {},
   "source": [
    "# Problem\n",
    "\n",
    "Given two strings s\n",
    "and t, t is a substring of s if t is contained as a contiguous collection of symbols in s (as a result, t must be no longer than s\n",
    "\n",
    ").\n",
    "\n",
    "The position of a symbol in a string is the total number of symbols found to its left, including itself (e.g., the positions of all occurrences of 'U' in \"AUGCUUCAGAAAGGUCUUACG\" are 2, 5, 6, 15, 17, and 18). The symbol at position i\n",
    "of s is denoted by s[i]\n",
    "\n",
    ".\n",
    "\n",
    "A substring of s\n",
    "can be represented as s[j:k], where j and k represent the starting and ending positions of the substring in s; for example, if s = \"AUGCUUCAGAAAGGUCUUACG\", then s[2:5]\n",
    "\n",
    "= \"UGCU\".\n",
    "\n",
    "The location of a substring s[j:k]\n",
    "is its beginning position j; note that t will have multiple locations in s if it occurs more than once as a substring of s\n",
    "\n",
    "(see the Sample below).\n",
    "\n",
    "Given: Two DNA strings s\n",
    "and t\n",
    "\n",
    "(each of length at most 1 kbp).\n",
    "\n",
    "Return: All locations of t\n",
    "as a substring of s\n",
    "\n",
    ".\n",
    "Sample Dataset\n",
    "\n",
    "GATATATGCATATACTT\n",
    "ATAT\n",
    "\n",
    "Sample Output\n",
    "\n",
    "2 4 10\n"
   ]
  },
  {
   "cell_type": "code",
   "execution_count": 21,
   "metadata": {},
   "outputs": [],
   "source": [
    "def haystack(s, t):\n",
    "    a = \"\"\n",
    "    for i in range(0,len(s)):\n",
    "        if s[i: i+len(t)] == t:\n",
    "            print(int(i+1))\n"
   ]
  },
  {
   "cell_type": "code",
   "execution_count": 22,
   "metadata": {},
   "outputs": [
    {
     "name": "stdout",
     "output_type": "stream",
     "text": [
      "2\n",
      "4\n",
      "10\n"
     ]
    }
   ],
   "source": [
    "haystack(\"GATATATGCATATACTT\", \"ATAT\")"
   ]
  },
  {
   "cell_type": "code",
   "execution_count": 23,
   "metadata": {},
   "outputs": [
    {
     "name": "stdout",
     "output_type": "stream",
     "text": [
      "35\n",
      "89\n",
      "96\n",
      "129\n",
      "163\n",
      "170\n",
      "194\n",
      "201\n",
      "217\n",
      "240\n",
      "295\n",
      "333\n",
      "351\n",
      "414\n",
      "463\n",
      "531\n",
      "538\n",
      "545\n",
      "560\n",
      "592\n",
      "631\n",
      "649\n",
      "742\n",
      "749\n",
      "778\n",
      "785\n",
      "861\n",
      "909\n",
      "936\n"
     ]
    }
   ],
   "source": [
    "haystack(\"AACAGTACCCTTCGTATCCTTCGTACCTTCGTTACCTTCGTCCTTCGTGGTCCTTCGTCGGACCTTCGTCGAGGACCTTCGTCACAAACCTTCGTCCTTCGTCCTTCGTTCCCTTCGTTCCTTCGTGGCCTTCGTCCCACCTTCGTTTCACCTTCGTACATTCCTTCGTCCTTCGTCCTTCGTATGCGCTCTTCCTTCGTCCTTCGTCCCTTCGTTCCTTCGTCCTTCGTTCCTTCGTTCCTTCGTCCTTCGTTTCCTTCGTGGTTCTCCCTTCGTGCCTTCGTTCCTTCGTACCCTTCGTCCCCCCTTCGTGCCTTCGTCACCTTCGTATACCTTCGTCCTTCGTGGACCCTTCGTCCTTCGTTTCCGCTGCCTTCGTCGACCTTCGTGACCCTTCGTACACCTTCGTTGTTCCTTCGTCCTTCGTGGCCTTCGTAAGGTCCTTCGTCAACCTTCGTGCAGCCTTCGTCCTTCGTTTCCTTCGTTCCCACCTTCGTACCCACCTTCGTGTGTCCCTTCGTACCTTCGTTCCTTCGTCCTTCGTCCTTCGTCCTTCGTGCCTTCGTCCTTCGTGTCGGTCCCAACAAAAGACCTTCGTCCTTCGTCATGCGGACGTAACCTTCGTCACGCCCTTCGTCCTTCGTGGCGCCTTCGTCCCCCTTCGTGTTAAAATCCTTCGTTTCCCCCTTCGTGTATGTCCTTCGTACCTTCGTTCCGCAAGAACCTTCGTGCTCCTTCGTTCCTTCGTCCTTCGTCCTTCGTTAGAAACCTTCGTCGCCTTCGTCCTTCGTCCTTCGTACACCTTCGTTTCCTTCGTCGCCGCCTTCGTTGAATTAGTTCCCCTTCGTTCCTTCGTGCATCCTTCGTCCCTTCGTGTGCTGCCCTTCGTTCGGGGTGCCTTCGTTCGACCTTCGTCCTTCGTTCCTTCGTAGGCGCCTTCGTCCCTTCGTGCCTTCGT\", \"CCTTCGTCC\")"
   ]
  },
  {
   "cell_type": "code",
   "execution_count": null,
   "metadata": {},
   "outputs": [],
   "source": []
  }
 ],
 "metadata": {
  "kernelspec": {
   "display_name": "Python 3",
   "language": "python",
   "name": "python3"
  },
  "language_info": {
   "codemirror_mode": {
    "name": "ipython",
    "version": 3
   },
   "file_extension": ".py",
   "mimetype": "text/x-python",
   "name": "python",
   "nbconvert_exporter": "python",
   "pygments_lexer": "ipython3",
   "version": "3.6.5"
  }
 },
 "nbformat": 4,
 "nbformat_minor": 2
}
